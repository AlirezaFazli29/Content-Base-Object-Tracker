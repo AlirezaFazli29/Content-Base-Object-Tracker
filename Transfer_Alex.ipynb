{
 "cells": [
  {
   "cell_type": "markdown",
   "metadata": {},
   "source": [
    "# Libraries"
   ]
  },
  {
   "cell_type": "code",
   "execution_count": 15,
   "metadata": {},
   "outputs": [],
   "source": [
    "import torch\n",
    "from torchvision import datasets, transforms, models\n",
    "import os\n",
    "import shutil\n",
    "from sklearn.model_selection import train_test_split\n",
    "from glob import glob\n",
    "from tqdm import tqdm\n",
    "from torch.utils.data import DataLoader\n",
    "import torch.optim as optim\n",
    "import torch.nn as nn\n",
    "from torchinfo import summary\n",
    "import matplotlib.pylab as plt"
   ]
  },
  {
   "cell_type": "markdown",
   "metadata": {},
   "source": [
    "# Default Device"
   ]
  },
  {
   "cell_type": "code",
   "execution_count": 2,
   "metadata": {},
   "outputs": [
    {
     "name": "stdout",
     "output_type": "stream",
     "text": [
      "NVIDIA GeForce GTX 1660 Ti\n"
     ]
    }
   ],
   "source": [
    "if torch.cuda.is_available(): print(torch.cuda.get_device_name()) \n",
    "else: print('cpu')\n",
    "device = 'cuda' if torch.cuda.is_available() else 'cpu'"
   ]
  },
  {
   "cell_type": "markdown",
   "metadata": {},
   "source": [
    "# Splitting Train, Valid, Test"
   ]
  },
  {
   "cell_type": "code",
   "execution_count": 3,
   "metadata": {},
   "outputs": [],
   "source": [
    "# Path to dataset\n",
    "dataset_dir = 'dataset'\n",
    "class_0_dir = os.path.join(dataset_dir, '0')\n",
    "class_1_dir = os.path.join(dataset_dir, '1')\n",
    "\n",
    "# Get all image file paths and their corresponding labels\n",
    "class_0_images = glob(os.path.join(class_0_dir, \"*\"))\n",
    "class_1_images = glob(os.path.join(class_1_dir, \"*\"))\n",
    "\n",
    "# Create labels\n",
    "class_0_labels = [0] * len(class_0_images)\n",
    "class_1_labels = [1] * len(class_1_images)\n",
    "\n",
    "# Combine the data and labels\n",
    "all_images = class_0_images + class_1_images\n",
    "all_labels = class_0_labels + class_1_labels"
   ]
  },
  {
   "cell_type": "code",
   "execution_count": 4,
   "metadata": {},
   "outputs": [],
   "source": [
    "# Split the data into train (70%), and a temporary validation+test set (30%)\n",
    "train_images, temp_images, train_labels, temp_labels = train_test_split(all_images, all_labels, \n",
    "                                                                        test_size=0.3, \n",
    "                                                                        stratify=all_labels, \n",
    "                                                                        shuffle=True,\n",
    "                                                                        random_state=42)\n",
    "\n",
    "# Further split the temporary set into validation (15%) and test (15%)\n",
    "val_images, test_images, val_labels, test_labels = train_test_split(temp_images, temp_labels, \n",
    "                                                                    test_size=0.5, \n",
    "                                                                    stratify=temp_labels,\n",
    "                                                                    shuffle=True,\n",
    "                                                                    random_state=42)"
   ]
  },
  {
   "cell_type": "code",
   "execution_count": 5,
   "metadata": {},
   "outputs": [],
   "source": [
    "def create_and_move(images, labels, split_name, base_dir):\n",
    "    \"\"\"\n",
    "    Creates directories for the given split and moves image files to their respective class folders.\n",
    "\n",
    "    Args:\n",
    "        images (list of str): List of file paths for the images to be moved.\n",
    "        labels (list of int): List of labels corresponding to each image.\n",
    "        split_name (str): The name of the split (e.g., 'train', 'val', 'test') which will be used to create directories.\n",
    "        base_dir (str): Base directory where the split directories will be created.\n",
    "    \"\"\"\n",
    "\n",
    "    split_dir = os.path.join(base_dir, split_name)\n",
    "    os.makedirs(os.path.join(split_dir, \"0\"), exist_ok=True)\n",
    "    os.makedirs(os.path.join(split_dir, \"1\"), exist_ok=True)\n",
    "    \n",
    "    for img, label in tqdm(zip(images, labels), total=len(images), desc=f\"Copying {split_name}\", leave=False):\n",
    "        label_dir = os.path.join(split_dir, str(label))\n",
    "        shutil.copy(img, label_dir)"
   ]
  },
  {
   "cell_type": "code",
   "execution_count": 6,
   "metadata": {},
   "outputs": [],
   "source": [
    "# Path to the new directory where we want to save the split dataset\n",
    "new_base_dir = 'splitted_data'\n",
    "os.makedirs(new_base_dir, exist_ok=True)"
   ]
  },
  {
   "cell_type": "code",
   "execution_count": 7,
   "metadata": {},
   "outputs": [
    {
     "name": "stderr",
     "output_type": "stream",
     "text": [
      "                                                                \r"
     ]
    }
   ],
   "source": [
    "# Create the new directories and move the files\n",
    "create_and_move(train_images, train_labels, \"train\", new_base_dir)\n",
    "create_and_move(val_images, val_labels, \"val\", new_base_dir)\n",
    "create_and_move(test_images, test_labels, \"test\", new_base_dir)"
   ]
  },
  {
   "cell_type": "markdown",
   "metadata": {},
   "source": [
    "# Loading Datasets"
   ]
  },
  {
   "cell_type": "code",
   "execution_count": 8,
   "metadata": {},
   "outputs": [],
   "source": [
    "transform = transforms.Compose([transforms.Resize((224,224), antialias=True),\n",
    "                                transforms.ToTensor(),\n",
    "                                transforms.ConvertImageDtype(torch.float),\n",
    "                                transforms.Normalize([0.485, 0.456, 0.406], [0.229, 0.224, 0.225])])\n",
    "\n",
    "batch_size = 32"
   ]
  },
  {
   "cell_type": "code",
   "execution_count": 9,
   "metadata": {},
   "outputs": [],
   "source": [
    "# Load the datasets from the folder structure\n",
    "image_datasets = {'train': datasets.ImageFolder(root=f'{new_base_dir}/train', transform=transform),\n",
    "                  'val': datasets.ImageFolder(root=f'{new_base_dir}/val', transform=transform),\n",
    "                  'test':  datasets.ImageFolder(root=f'{new_base_dir}/test', transform=transform)}\n",
    "\n",
    "# Create DataLoaders for each dataset\n",
    "dataloaders = {'train': DataLoader(image_datasets['train'], batch_size=batch_size, shuffle=True),\n",
    "               'val': DataLoader(image_datasets['val'], batch_size=batch_size, shuffle=True),\n",
    "               'test':  DataLoader(image_datasets['test'], batch_size=batch_size, shuffle=True)}"
   ]
  },
  {
   "cell_type": "markdown",
   "metadata": {},
   "source": [
    "# Model"
   ]
  },
  {
   "cell_type": "code",
   "execution_count": 10,
   "metadata": {},
   "outputs": [],
   "source": [
    "Alex = models.alexnet(weights=models.AlexNet_Weights.IMAGENET1K_V1).to(device)\n",
    "Alex.classifier[-1] = nn.Linear(in_features=4096, out_features=2)"
   ]
  },
  {
   "cell_type": "code",
   "execution_count": 11,
   "metadata": {},
   "outputs": [
    {
     "data": {
      "text/plain": [
       "==========================================================================================\n",
       "Layer (type:depth-idx)                   Output Shape              Param #\n",
       "==========================================================================================\n",
       "AlexNet                                  [32, 2]                   --\n",
       "├─Sequential: 1-1                        [32, 256, 6, 6]           --\n",
       "│    └─Conv2d: 2-1                       [32, 64, 55, 55]          (23,296)\n",
       "│    └─ReLU: 2-2                         [32, 64, 55, 55]          --\n",
       "│    └─MaxPool2d: 2-3                    [32, 64, 27, 27]          --\n",
       "│    └─Conv2d: 2-4                       [32, 192, 27, 27]         (307,392)\n",
       "│    └─ReLU: 2-5                         [32, 192, 27, 27]         --\n",
       "│    └─MaxPool2d: 2-6                    [32, 192, 13, 13]         --\n",
       "│    └─Conv2d: 2-7                       [32, 384, 13, 13]         (663,936)\n",
       "│    └─ReLU: 2-8                         [32, 384, 13, 13]         --\n",
       "│    └─Conv2d: 2-9                       [32, 256, 13, 13]         (884,992)\n",
       "│    └─ReLU: 2-10                        [32, 256, 13, 13]         --\n",
       "│    └─Conv2d: 2-11                      [32, 256, 13, 13]         (590,080)\n",
       "│    └─ReLU: 2-12                        [32, 256, 13, 13]         --\n",
       "│    └─MaxPool2d: 2-13                   [32, 256, 6, 6]           --\n",
       "├─AdaptiveAvgPool2d: 1-2                 [32, 256, 6, 6]           --\n",
       "├─Sequential: 1-3                        [32, 2]                   --\n",
       "│    └─Dropout: 2-14                     [32, 9216]                --\n",
       "│    └─Linear: 2-15                      [32, 4096]                37,752,832\n",
       "│    └─ReLU: 2-16                        [32, 4096]                --\n",
       "│    └─Dropout: 2-17                     [32, 4096]                --\n",
       "│    └─Linear: 2-18                      [32, 4096]                16,781,312\n",
       "│    └─ReLU: 2-19                        [32, 4096]                --\n",
       "│    └─Linear: 2-20                      [32, 2]                   8,194\n",
       "==========================================================================================\n",
       "Total params: 57,012,034\n",
       "Trainable params: 54,542,338\n",
       "Non-trainable params: 2,469,696\n",
       "Total mult-adds (G): 22.74\n",
       "==========================================================================================\n",
       "Input size (MB): 19.27\n",
       "Forward/backward pass size (MB): 126.26\n",
       "Params size (MB): 228.05\n",
       "Estimated Total Size (MB): 373.57\n",
       "=========================================================================================="
      ]
     },
     "execution_count": 11,
     "metadata": {},
     "output_type": "execute_result"
    }
   ],
   "source": [
    "for x in Alex.features.parameters(): x.requires_grad = False\n",
    "summary(Alex, [batch_size, 3, 224, 224])"
   ]
  },
  {
   "cell_type": "markdown",
   "metadata": {},
   "source": [
    "# Training"
   ]
  },
  {
   "cell_type": "code",
   "execution_count": 12,
   "metadata": {},
   "outputs": [],
   "source": [
    "epochs = 20\n",
    "lr = 0.001\n",
    "criterion = nn.CrossEntropyLoss()\n",
    "optimizer = optim.SGD(Alex.parameters(), lr=lr, momentum=0.9)\n",
    "save_path = 'net'\n",
    "os.makedirs(save_path, exist_ok=True)"
   ]
  },
  {
   "cell_type": "code",
   "execution_count": 13,
   "metadata": {},
   "outputs": [
    {
     "name": "stderr",
     "output_type": "stream",
     "text": [
      "                                                                 \r"
     ]
    },
    {
     "name": "stdout",
     "output_type": "stream",
     "text": [
      "Epoch   1 / 20 :  Train Loss: 0.01313513, Valid Loss: 0.00391784, Train acc: 0.80701754, Valid acc: 0.94594595\n"
     ]
    },
    {
     "name": "stderr",
     "output_type": "stream",
     "text": [
      "                                                               \r"
     ]
    },
    {
     "name": "stdout",
     "output_type": "stream",
     "text": [
      "Epoch   2 / 20 :  Train Loss: 0.00052703, Valid Loss: 0.00126353, Train acc: 1.00000000, Valid acc: 0.97297297\n"
     ]
    },
    {
     "name": "stderr",
     "output_type": "stream",
     "text": [
      "                                                               \r"
     ]
    },
    {
     "name": "stdout",
     "output_type": "stream",
     "text": [
      "Epoch   3 / 20 :  Train Loss: 0.00020109, Valid Loss: 0.00091966, Train acc: 1.00000000, Valid acc: 1.00000000\n"
     ]
    },
    {
     "name": "stderr",
     "output_type": "stream",
     "text": [
      "                                                               \r"
     ]
    },
    {
     "name": "stdout",
     "output_type": "stream",
     "text": [
      "Epoch   4 / 20 :  Train Loss: 0.00019302, Valid Loss: 0.00312135, Train acc: 0.99415205, Valid acc: 1.00000000\n"
     ]
    },
    {
     "name": "stderr",
     "output_type": "stream",
     "text": [
      "                                                               \r"
     ]
    },
    {
     "name": "stdout",
     "output_type": "stream",
     "text": [
      "Epoch   5 / 20 :  Train Loss: 0.00004298, Valid Loss: 0.00066688, Train acc: 1.00000000, Valid acc: 1.00000000\n"
     ]
    },
    {
     "name": "stderr",
     "output_type": "stream",
     "text": [
      "                                                               \r"
     ]
    },
    {
     "name": "stdout",
     "output_type": "stream",
     "text": [
      "Epoch   6 / 20 :  Train Loss: 0.00002587, Valid Loss: 0.00262264, Train acc: 1.00000000, Valid acc: 1.00000000\n"
     ]
    },
    {
     "name": "stderr",
     "output_type": "stream",
     "text": [
      "                                                               \r"
     ]
    },
    {
     "name": "stdout",
     "output_type": "stream",
     "text": [
      "Epoch   7 / 20 :  Train Loss: 0.00002145, Valid Loss: 0.00062148, Train acc: 1.00000000, Valid acc: 1.00000000\n"
     ]
    },
    {
     "name": "stderr",
     "output_type": "stream",
     "text": [
      "                                                               \r"
     ]
    },
    {
     "name": "stdout",
     "output_type": "stream",
     "text": [
      "Epoch   8 / 20 :  Train Loss: 0.00005415, Valid Loss: 0.00059324, Train acc: 1.00000000, Valid acc: 1.00000000\n"
     ]
    },
    {
     "name": "stderr",
     "output_type": "stream",
     "text": [
      "                                                                 \r"
     ]
    },
    {
     "name": "stdout",
     "output_type": "stream",
     "text": [
      "Epoch   9 / 20 :  Train Loss: 0.00003563, Valid Loss: 0.00058276, Train acc: 1.00000000, Valid acc: 1.00000000\n"
     ]
    },
    {
     "name": "stderr",
     "output_type": "stream",
     "text": [
      "                                                                \r"
     ]
    },
    {
     "name": "stdout",
     "output_type": "stream",
     "text": [
      "Epoch  10 / 20 :  Train Loss: 0.00002151, Valid Loss: 0.00237216, Train acc: 1.00000000, Valid acc: 1.00000000\n"
     ]
    },
    {
     "name": "stderr",
     "output_type": "stream",
     "text": [
      "                                                                \r"
     ]
    },
    {
     "name": "stdout",
     "output_type": "stream",
     "text": [
      "Epoch  11 / 20 :  Train Loss: 0.00002054, Valid Loss: 0.00056789, Train acc: 1.00000000, Valid acc: 1.00000000\n"
     ]
    },
    {
     "name": "stderr",
     "output_type": "stream",
     "text": [
      "                                                                \r"
     ]
    },
    {
     "name": "stdout",
     "output_type": "stream",
     "text": [
      "Epoch  12 / 20 :  Train Loss: 0.00002695, Valid Loss: 0.00056931, Train acc: 1.00000000, Valid acc: 1.00000000\n"
     ]
    },
    {
     "name": "stderr",
     "output_type": "stream",
     "text": [
      "                                                                \r"
     ]
    },
    {
     "name": "stdout",
     "output_type": "stream",
     "text": [
      "Epoch  13 / 20 :  Train Loss: 0.00001956, Valid Loss: 0.00071288, Train acc: 1.00000000, Valid acc: 1.00000000\n"
     ]
    },
    {
     "name": "stderr",
     "output_type": "stream",
     "text": [
      "                                                                \r"
     ]
    },
    {
     "name": "stdout",
     "output_type": "stream",
     "text": [
      "Epoch  14 / 20 :  Train Loss: 0.00003319, Valid Loss: 0.00217226, Train acc: 1.00000000, Valid acc: 1.00000000\n"
     ]
    },
    {
     "name": "stderr",
     "output_type": "stream",
     "text": [
      "                                                                \r"
     ]
    },
    {
     "name": "stdout",
     "output_type": "stream",
     "text": [
      "Epoch  15 / 20 :  Train Loss: 0.00000944, Valid Loss: 0.00054960, Train acc: 1.00000000, Valid acc: 1.00000000\n"
     ]
    },
    {
     "name": "stderr",
     "output_type": "stream",
     "text": [
      "                                                                \r"
     ]
    },
    {
     "name": "stdout",
     "output_type": "stream",
     "text": [
      "Epoch  16 / 20 :  Train Loss: 0.00001445, Valid Loss: 0.00054781, Train acc: 1.00000000, Valid acc: 1.00000000\n"
     ]
    },
    {
     "name": "stderr",
     "output_type": "stream",
     "text": [
      "                                                                \r"
     ]
    },
    {
     "name": "stdout",
     "output_type": "stream",
     "text": [
      "Epoch  17 / 20 :  Train Loss: 0.00001756, Valid Loss: 0.00212487, Train acc: 1.00000000, Valid acc: 1.00000000\n"
     ]
    },
    {
     "name": "stderr",
     "output_type": "stream",
     "text": [
      "                                                                \r"
     ]
    },
    {
     "name": "stdout",
     "output_type": "stream",
     "text": [
      "Epoch  18 / 20 :  Train Loss: 0.00001397, Valid Loss: 0.00056772, Train acc: 1.00000000, Valid acc: 1.00000000\n"
     ]
    },
    {
     "name": "stderr",
     "output_type": "stream",
     "text": [
      "                                                                \r"
     ]
    },
    {
     "name": "stdout",
     "output_type": "stream",
     "text": [
      "Epoch  19 / 20 :  Train Loss: 0.00001651, Valid Loss: 0.00226380, Train acc: 1.00000000, Valid acc: 1.00000000\n"
     ]
    },
    {
     "name": "stderr",
     "output_type": "stream",
     "text": [
      "                                                                \r"
     ]
    },
    {
     "name": "stdout",
     "output_type": "stream",
     "text": [
      "Epoch  20 / 20 :  Train Loss: 0.00001620, Valid Loss: 0.00061204, Train acc: 1.00000000, Valid acc: 1.00000000\n"
     ]
    }
   ],
   "source": [
    "history = { 'train_loss' : [], 'train_acc': [], 'val_loss': [], 'val_acc': []}\n",
    "min_loss = 1e9\n",
    "\n",
    "for ep in range(epochs):\n",
    "\n",
    "    Alex.train()\n",
    "    steps = len(dataloaders['train'])\n",
    "    total_loss, acc, count = 0, 0, 0\n",
    "    for features, labels in tqdm(dataloaders['train'], total=steps, desc=f'Training Epoch {ep+1}', leave=False):\n",
    "        features, labels = features.to(device), labels.to(device)\n",
    "        optimizer.zero_grad()\n",
    "        outputs = Alex(features)\n",
    "        loss = criterion(outputs, labels)\n",
    "        loss.backward()\n",
    "        optimizer.step()\n",
    "        total_loss+=loss\n",
    "        predicted_value = torch.argmax(outputs, 1)\n",
    "        acc+=(predicted_value==labels).sum()\n",
    "        count+=len(labels)\n",
    "    tl,ta = total_loss.item()/count, acc.item()/count\n",
    "    history['train_loss'].append(tl)\n",
    "    history['train_acc'].append(ta)\n",
    "\n",
    "\n",
    "    Alex.eval()\n",
    "    steps = len(dataloaders['val'])\n",
    "    total_loss, acc, count = 0, 0, 0\n",
    "    for features, labels in tqdm(dataloaders['val'], total=steps, desc=f'Validating Epoch {ep+1}', leave=False):\n",
    "        with torch.no_grad():\n",
    "            features, labels = features.to(device), labels.to(device)\n",
    "            outputs = Alex(features)\n",
    "            loss = criterion(outputs, labels)\n",
    "            total_loss+=loss\n",
    "            predicted_value = torch.argmax(outputs, 1)\n",
    "            acc+=(predicted_value==labels).sum()\n",
    "            count+=len(labels)\n",
    "    vl,va = total_loss.item()/count, acc.item()/count\n",
    "    history['val_loss'].append(vl)\n",
    "    history['val_acc'].append(va)\n",
    "\n",
    "    if vl <= min_loss:\n",
    "        torch.save(Alex.state_dict(), os.path.join(save_path, 'alex_weights_min_loss.pth'))\n",
    "        min_loss = vl\n",
    "    torch.save(Alex.state_dict(), os.path.join(save_path, 'alex_weights.pth'))\n",
    "\n",
    "    print(f'Epoch {ep+1:3} / {epochs} :  Train Loss: {tl:.8f}, Valid Loss: {vl:.8f}, Train acc: {ta:.8f}, Valid acc: {va:.8f}')"
   ]
  },
  {
   "cell_type": "code",
   "execution_count": 16,
   "metadata": {},
   "outputs": [
    {
     "data": {
      "image/png": "[encoded data removed]",
      "text/plain": [
       "<Figure size 640x480 with 1 Axes>"
      ]
     },
     "metadata": {},
     "output_type": "display_data"
    }
   ],
   "source": [
    "plt.plot(history['train_loss'], label='Training loss')\n",
    "plt.plot(history['val_loss'], label='Validation loss')\n",
    "plt.legend()\n",
    "plt.grid()\n",
    "plt.show()"
   ]
  },
  {
   "cell_type": "code",
   "execution_count": 17,
   "metadata": {},
   "outputs": [
    {
     "data": {
      "image/png": "[encoded data removed]",
      "text/plain": [
       "<Figure size 640x480 with 1 Axes>"
      ]
     },
     "metadata": {},
     "output_type": "display_data"
    }
   ],
   "source": [
    "plt.plot(history['train_acc'], label='Training acc')\n",
    "plt.plot(history['val_acc'], label='Validation acc')\n",
    "plt.legend()\n",
    "plt.grid()\n",
    "plt.show()"
   ]
  }
 ],
 "metadata": {
  "kernelspec": {
   "display_name": ".venv",
   "language": "python",
   "name": "python3"
  },
  "language_info": {
   "codemirror_mode": {
    "name": "ipython",
    "version": 3
   },
   "file_extension": ".py",
   "mimetype": "text/x-python",
   "name": "python",
   "nbconvert_exporter": "python",
   "pygments_lexer": "ipython3",
   "version": "3.10.8"
  }
 },
 "nbformat": 4,
 "nbformat_minor": 2
}
